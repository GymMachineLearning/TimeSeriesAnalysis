import numpy as np
import matplotlib.pyplot as plt


npz_file_path = "./Data/knees.npz"
data = np.load(npz_file_path)

keypoints_3d = data['reconstruction']



print(keypoints_3d.shape)


knees = keypoints_3d[:,13,:]
print(knees.shape)


plt.plot(knees)



